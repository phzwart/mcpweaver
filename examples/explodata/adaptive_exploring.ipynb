{
 "cells": [
  {
   "cell_type": "code",
   "execution_count": 1,
   "id": "c4f83263-2eeb-4747-bd9e-e172bc142421",
   "metadata": {},
   "outputs": [
    {
     "name": "stdout",
     "output_type": "stream",
     "text": [
      "✅ Loaded reasoning engine config from: /storage/Projects/mcpweaver_project/mcpweaver/configs/reasoning_config.yaml\n",
      "🧠 Reasoning about query: Calculate the mean and std of [1, 2, 3, 4, 5]\n",
      "🔧 Injected context from prompt generator\n",
      "🔧 JSON support test failed: HTTPConnectionPool(host='localhost', port=11434): Read timed out. (read timeout=10)\n",
      "🔧 Model gpt-oss:20b JSON support: False\n",
      "⚠️ No JSON schema available\n",
      "🤖 Calling LLM (ollama:gpt-oss:20b) for reasoning...\n",
      "❌ Error calling LLM: HTTPConnectionPool(host='localhost', port=11434): Read timed out. (read timeout=10)\n",
      "Plan: {'plan': [], 'confidence': 0.0, 'error': \"Error calling LLM: HTTPConnectionPool(host='localhost', port=11434): Read timed out. (read timeout=10)\"}\n"
     ]
    }
   ],
   "source": [
    "from mcpweaver import (\n",
    "    get_mcp_tools, \n",
    "    call_mcp_tool, \n",
    "    create_reasoning_engine,\n",
    "    convert_mcp_tools_to_reasoning_format\n",
    ")\n",
    "\n",
    "# Setup\n",
    "tools = get_mcp_tools()\n",
    "\n",
    "engine = create_reasoning_engine()\n",
    "available_tools = convert_mcp_tools_to_reasoning_format(tools)\n",
    "\n",
    "# Test query\n",
    "query = \"Calculate the mean and std of [1, 2, 3, 4, 5]\"\n",
    "plan = engine.reason_about_query(query, available_tools)  # ← Context injected automatically\n",
    "print(\"Plan:\", plan)\n",
    "\n",
    "# Execute\n",
    "if plan.get('actions'):\n",
    "    for action in plan['actions']:\n",
    "        tool_name = action['tool']\n",
    "        arguments = action['arguments']\n",
    "        result = call_mcp_tool(tool_name, arguments)\n",
    "        print(f\"Executed {tool_name}: {result}\")"
   ]
  },
  {
   "cell_type": "code",
   "execution_count": null,
   "id": "83f10079-0a26-4a13-a762-f67177179862",
   "metadata": {},
   "outputs": [],
   "source": []
  }
 ],
 "metadata": {
  "kernelspec": {
   "display_name": "agentbx",
   "language": "python",
   "name": "agentbx"
  },
  "language_info": {
   "codemirror_mode": {
    "name": "ipython",
    "version": 3
   },
   "file_extension": ".py",
   "mimetype": "text/x-python",
   "name": "python",
   "nbconvert_exporter": "python",
   "pygments_lexer": "ipython3",
   "version": "3.10.18"
  }
 },
 "nbformat": 4,
 "nbformat_minor": 5
}
